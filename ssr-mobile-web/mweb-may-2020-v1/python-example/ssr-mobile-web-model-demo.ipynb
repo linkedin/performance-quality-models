{
 "cells": [
  {
   "cell_type": "markdown",
   "id": "adb88842",
   "metadata": {},
   "source": [
    "# SSR Mobile Web Model Python Demo"
   ]
  },
  {
   "cell_type": "markdown",
   "id": "6524c6d0",
   "metadata": {},
   "source": [
    "We'll see how to load the mweb-may-2020-v1 predictor and make predictions with it in Python. As a bonus, we also share a playground to play with the model and get a feel for its performance. The interactive UI demo only works in a notebook interface.\n",
    "\n",
    "Simply run all the cells below to get started. "
   ]
  },
  {
   "cell_type": "code",
   "execution_count": 1,
   "id": "f61621f3",
   "metadata": {
    "scrolled": true
   },
   "outputs": [],
   "source": [
    "! pip install -U -q tensorflow==2.2 jupyter-dash pandas"
   ]
  },
  {
   "cell_type": "code",
   "execution_count": 2,
   "id": "71620998",
   "metadata": {},
   "outputs": [
    {
     "data": {
      "text/plain": [
       "'2.2.0'"
      ]
     },
     "execution_count": 2,
     "metadata": {},
     "output_type": "execute_result"
    }
   ],
   "source": [
    "import re\n",
    "import logging\n",
    "from pathlib import Path\n",
    "\n",
    "import tensorflow as tf\n",
    "\n",
    "from jupyter_dash import JupyterDash\n",
    "from dash import dcc\n",
    "from dash import html\n",
    "from dash.dependencies import Input, Output\n",
    "\n",
    "tf.__version__"
   ]
  },
  {
   "cell_type": "code",
   "execution_count": 3,
   "id": "fdc5bc7b",
   "metadata": {},
   "outputs": [],
   "source": [
    "logging.basicConfig(level=logging.ERROR, format='%(asctime)s %(message)s')"
   ]
  },
  {
   "cell_type": "code",
   "execution_count": 4,
   "id": "8f9d5505",
   "metadata": {
    "code_folding": [
     0
    ]
   },
   "outputs": [],
   "source": [
    "class MWebMay2020Predictor:\n",
    "    def __init__(self, modelDir):\n",
    "        self.modelDir = modelDir;\n",
    "        self.modelName = Path(modelDir).name\n",
    "        self.model = None\n",
    "        \n",
    "        self._features = [\n",
    "          'asn_number',\n",
    "          'browser_major_version',\n",
    "          'browser_major_version_na',\n",
    "          'browser_name',\n",
    "          'country_code',\n",
    "          'dataCenter',\n",
    "          'osFamily',\n",
    "          'osMajor',\n",
    "          'osMajor_na',\n",
    "          'popId'\n",
    "        ]\n",
    "\n",
    "\n",
    "        # As saved in /jobs/nqsdev/lite/phase3/production_models/may-2020-model/best_model_nqs-lite-p30-cut-run2__HYPEROPT_AHB_60_SAMPLES_40_ITERATIONS/tfms-fixed.pickle for /jobs/nqsdev/lite/phase3/model_training_results/May2020-nqs-web-mapper-data/nqs-lite-p30-cut-run2__HYPEROPT_AHB_60_SAMPLES_40_ITERATIONS/ray_results/workspace/deepthought/nqs/src/linkedin/nqs/kong_model_training/tensorboard_data/ray_results/HYPEROPT_AHB_60_SAMPLES_40_ITERATIONS/DenseNQSModel_16_asn_hash_buckets=2201,batch_size=4096,cols_in_csv_file_order=['asn_number', 'country_code', 'popId', 'osFamily', _2020-06-30_00-25-161lyqlcwm/est_model_dir model\n",
    "        self._defaults = {\n",
    "          \"browser_major_version\": 75.0,\n",
    "          \"osMajor\": 11.0,\n",
    "          \"asn_number\": '**',\n",
    "          \"country_code\": '**',\n",
    "          \"browser_name\": '**',\n",
    "          \"osFamily\": '**',\n",
    "          \"popId\": '**',\n",
    "          \"dataCenter\": '**'\n",
    "        }\n",
    "\n",
    "        self._normalizer = {\n",
    "          \"means\": {\"browser_major_version\": 776.7030035555556, \"osMajor\": 10.416319973334147},\n",
    "          \"stds\": {\"browser_major_version\": 120559.96265890554, \"osMajor\": 2.4117271070878434}\n",
    "        }\n",
    "\n",
    "    def loadModel(self):\n",
    "        self.model = tf.saved_model.load(self.modelDir).signatures[\"predict\"]\n",
    "        \n",
    "    def _normalizeNumericalFetaures(self, x):\n",
    "        means = self._normalizer['means']\n",
    "        stds = self._normalizer[\"stds\"] \n",
    "        for feature in means:\n",
    "            x[feature] = (float(x[feature]) - means[feature]) / stds[feature];\n",
    "        return x;\n",
    "\n",
    "    def _checkNA(self, value):\n",
    "        res = value == None or value == '' or value == 'unknown'\n",
    "        if isinstance(value, float) or isinstance(value, int):\n",
    "            res = res or value < 0\n",
    "        return res\n",
    "\n",
    "    def _fillNA(self, x):\n",
    "        for feature in x.keys():\n",
    "            if self._checkNA(x[feature]):\n",
    "                x[feature] = self._defaults[feature];\n",
    "        return x;\n",
    "\n",
    "    def _addNAFetaures(self, x):\n",
    "        x[\"browser_major_version_na\"] = 'False';\n",
    "        x[\"osMajor_na\"] = 'False';\n",
    "\n",
    "        if self._checkNA(x[\"browser_major_version\"]):\n",
    "            x[\"browser_major_version_na\"] = 'True';\n",
    "\n",
    "        if self._checkNA(x[\"osMajor\"]):\n",
    "            x[\"osMajor_na\"] = 'True';\n",
    "\n",
    "        return x;\n",
    "    \n",
    "    def _convert_to_bytes(self, x):\n",
    "        for feat, val in x.items():\n",
    "            if isinstance(val, str):\n",
    "                x[feat] = bytes(x[feat], 'utf-8')\n",
    "        return x\n",
    "    \n",
    "    def prepareX(self, inp_example):\n",
    "        model_input = tf.train.Example(features=tf.train.Features(feature={\n",
    "            'country_code': tf.train.Feature(bytes_list=tf.train.BytesList(value=[inp_example[\"country_code\"]])),\n",
    "            'popId': tf.train.Feature(bytes_list=tf.train.BytesList(value=[inp_example[\"popId\"]])),\n",
    "            'osFamily': tf.train.Feature(bytes_list=tf.train.BytesList(value=[inp_example[\"osFamily\"]])),\n",
    "            'browser_name': tf.train.Feature(bytes_list=tf.train.BytesList(value=[inp_example[\"browser_name\"]])),\n",
    "            'dataCenter': tf.train.Feature(bytes_list=tf.train.BytesList(value=[inp_example[\"dataCenter\"]])),\n",
    "            'browser_major_version_na': tf.train.Feature(bytes_list=tf.train.BytesList(value=[inp_example[\"browser_major_version_na\"]])),\n",
    "            'osMajor_na': tf.train.Feature(bytes_list=tf.train.BytesList(value=[inp_example[\"osMajor_na\"]])),\n",
    "            'asn_number': tf.train.Feature(bytes_list=tf.train.BytesList(value=[inp_example[\"asn_number\"]])),\n",
    "            'browser_major_version': tf.train.Feature(float_list=tf.train.FloatList(value=[inp_example[\"browser_major_version\"]])),\n",
    "            'osMajor': tf.train.Feature(float_list=tf.train.FloatList(value=[inp_example[\"osMajor\"]]))\n",
    "        }))\n",
    "        return model_input.SerializeToString()\n",
    "\n",
    "    def preProcessInput(self, inp):\n",
    "        x = {};\n",
    "        for feature in self._features:\n",
    "            x[feature] = inp.get(feature, None);\n",
    "\n",
    "        x = self._addNAFetaures(x);\n",
    "        x = self._fillNA(x);\n",
    "        x = self._normalizeNumericalFetaures(x);\n",
    "        x = self._convert_to_bytes(x)\n",
    "        return x;\n",
    "    \n",
    "    \n",
    "    def predict(self, rawInput):\n",
    "        \"\"\"\n",
    "        * Process the input and make predictions on it\n",
    "        * @param {object} rawInput {[name: string]: tf.Tensor} dictionary\n",
    "        * @returns {class1: probability1, class2: probability2, ...}\n",
    "        \"\"\"\n",
    "        if not self.model:\n",
    "            self.loadModel()\n",
    "\n",
    "        inp = self.preProcessInput(rawInput);\n",
    "        logging.debug(f\"Model input: {inp}\")\n",
    "        x = self.prepareX(inp)\n",
    "        logging.debug(f\"Model (x): {x}\")\n",
    "        output = self.model(examples=tf.constant([x]))\n",
    "        return output"
   ]
  },
  {
   "cell_type": "code",
   "execution_count": 5,
   "id": "4918436d",
   "metadata": {
    "code_folding": [
     0
    ],
    "scrolled": true
   },
   "outputs": [],
   "source": [
    "def make_prediction(predictor, inp):\n",
    "    p = predictor.predict(inp)\n",
    "    scores = p['probabilities'].numpy()[0]\n",
    "    return {i: score for i, score in enumerate(scores)} # return the probability for each class"
   ]
  },
  {
   "cell_type": "code",
   "execution_count": 6,
   "id": "2129cf45",
   "metadata": {},
   "outputs": [],
   "source": [
    "# the below model is the TF Python equivalent of JS' saved model\n",
    "MODEL_PATH = \"../models/py-saved-model/\""
   ]
  },
  {
   "cell_type": "code",
   "execution_count": 7,
   "id": "c67cec70",
   "metadata": {
    "scrolled": true
   },
   "outputs": [
    {
     "name": "stdout",
     "output_type": "stream",
     "text": [
      "WARNING:tensorflow:From /Users/nipasuma/miniconda3/envs/py36/lib/python3.6/site-packages/tensorflow/python/ops/resource_variable_ops.py:1817: calling BaseResourceVariable.__init__ (from tensorflow.python.ops.resource_variable_ops) with constraint is deprecated and will be removed in a future version.\n",
      "Instructions for updating:\n",
      "If using Keras pass *_constraint arguments to layers.\n"
     ]
    },
    {
     "name": "stderr",
     "output_type": "stream",
     "text": [
      "2021-12-23 18:25:49,430 From /Users/nipasuma/miniconda3/envs/py36/lib/python3.6/site-packages/tensorflow/python/ops/resource_variable_ops.py:1817: calling BaseResourceVariable.__init__ (from tensorflow.python.ops.resource_variable_ops) with constraint is deprecated and will be removed in a future version.\n",
      "Instructions for updating:\n",
      "If using Keras pass *_constraint arguments to layers.\n"
     ]
    },
    {
     "name": "stdout",
     "output_type": "stream",
     "text": [
      "WARNING:tensorflow:Unable to create a python object for variable <tf.Variable 'global_step:0' shape=() dtype=int64_ref> because it is a reference variable. It may not be visible to training APIs. If this is a problem, consider rebuilding the SavedModel after running tf.compat.v1.enable_resource_variables().\n"
     ]
    },
    {
     "name": "stderr",
     "output_type": "stream",
     "text": [
      "2021-12-23 18:25:49,456 Unable to create a python object for variable <tf.Variable 'global_step:0' shape=() dtype=int64_ref> because it is a reference variable. It may not be visible to training APIs. If this is a problem, consider rebuilding the SavedModel after running tf.compat.v1.enable_resource_variables().\n"
     ]
    },
    {
     "name": "stdout",
     "output_type": "stream",
     "text": [
      "WARNING:tensorflow:Unable to create a python object for variable <tf.Variable 'global_step:0' shape=() dtype=int64_ref> because it is a reference variable. It may not be visible to training APIs. If this is a problem, consider rebuilding the SavedModel after running tf.compat.v1.enable_resource_variables().\n"
     ]
    },
    {
     "name": "stderr",
     "output_type": "stream",
     "text": [
      "2021-12-23 18:25:49,593 Unable to create a python object for variable <tf.Variable 'global_step:0' shape=() dtype=int64_ref> because it is a reference variable. It may not be visible to training APIs. If this is a problem, consider rebuilding the SavedModel after running tf.compat.v1.enable_resource_variables().\n"
     ]
    },
    {
     "name": "stdout",
     "output_type": "stream",
     "text": [
      "WARNING:tensorflow:Unable to create a python object for variable <tf.Variable 'global_step:0' shape=() dtype=int64_ref> because it is a reference variable. It may not be visible to training APIs. If this is a problem, consider rebuilding the SavedModel after running tf.compat.v1.enable_resource_variables().\n"
     ]
    },
    {
     "name": "stderr",
     "output_type": "stream",
     "text": [
      "2021-12-23 18:25:49,695 Unable to create a python object for variable <tf.Variable 'global_step:0' shape=() dtype=int64_ref> because it is a reference variable. It may not be visible to training APIs. If this is a problem, consider rebuilding the SavedModel after running tf.compat.v1.enable_resource_variables().\n"
     ]
    },
    {
     "name": "stdout",
     "output_type": "stream",
     "text": [
      "WARNING:tensorflow:Unable to create a python object for variable <tf.Variable 'global_step:0' shape=() dtype=int64_ref> because it is a reference variable. It may not be visible to training APIs. If this is a problem, consider rebuilding the SavedModel after running tf.compat.v1.enable_resource_variables().\n"
     ]
    },
    {
     "name": "stderr",
     "output_type": "stream",
     "text": [
      "2021-12-23 18:25:50,097 Unable to create a python object for variable <tf.Variable 'global_step:0' shape=() dtype=int64_ref> because it is a reference variable. It may not be visible to training APIs. If this is a problem, consider rebuilding the SavedModel after running tf.compat.v1.enable_resource_variables().\n"
     ]
    },
    {
     "name": "stdout",
     "output_type": "stream",
     "text": [
      "WARNING:tensorflow:Unable to create a python object for variable <tf.Variable 'global_step:0' shape=() dtype=int64_ref> because it is a reference variable. It may not be visible to training APIs. If this is a problem, consider rebuilding the SavedModel after running tf.compat.v1.enable_resource_variables().\n"
     ]
    },
    {
     "name": "stderr",
     "output_type": "stream",
     "text": [
      "2021-12-23 18:25:50,507 Unable to create a python object for variable <tf.Variable 'global_step:0' shape=() dtype=int64_ref> because it is a reference variable. It may not be visible to training APIs. If this is a problem, consider rebuilding the SavedModel after running tf.compat.v1.enable_resource_variables().\n"
     ]
    },
    {
     "name": "stdout",
     "output_type": "stream",
     "text": [
      "WARNING:tensorflow:Unable to create a python object for variable <tf.Variable 'global_step:0' shape=() dtype=int64_ref> because it is a reference variable. It may not be visible to training APIs. If this is a problem, consider rebuilding the SavedModel after running tf.compat.v1.enable_resource_variables().\n"
     ]
    },
    {
     "name": "stderr",
     "output_type": "stream",
     "text": [
      "2021-12-23 18:25:50,975 Unable to create a python object for variable <tf.Variable 'global_step:0' shape=() dtype=int64_ref> because it is a reference variable. It may not be visible to training APIs. If this is a problem, consider rebuilding the SavedModel after running tf.compat.v1.enable_resource_variables().\n"
     ]
    },
    {
     "name": "stdout",
     "output_type": "stream",
     "text": [
      "WARNING:tensorflow:Unable to create a python object for variable <tf.Variable 'global_step:0' shape=() dtype=int64_ref> because it is a reference variable. It may not be visible to training APIs. If this is a problem, consider rebuilding the SavedModel after running tf.compat.v1.enable_resource_variables().\n"
     ]
    },
    {
     "name": "stderr",
     "output_type": "stream",
     "text": [
      "2021-12-23 18:25:51,407 Unable to create a python object for variable <tf.Variable 'global_step:0' shape=() dtype=int64_ref> because it is a reference variable. It may not be visible to training APIs. If this is a problem, consider rebuilding the SavedModel after running tf.compat.v1.enable_resource_variables().\n"
     ]
    }
   ],
   "source": [
    "predictor = MWebMay2020Predictor(MODEL_PATH)\n",
    "predictor.loadModel()"
   ]
  },
  {
   "cell_type": "markdown",
   "id": "769234f7",
   "metadata": {},
   "source": [
    "Make some predictions"
   ]
  },
  {
   "cell_type": "code",
   "execution_count": 8,
   "id": "22480e27",
   "metadata": {},
   "outputs": [
    {
     "data": {
      "text/plain": [
       "{0: 0.0011126753, 1: 0.99888736}"
      ]
     },
     "execution_count": 8,
     "metadata": {},
     "output_type": "execute_result"
    }
   ],
   "source": [
    "make_prediction(predictor, \n",
    "    {\n",
    "        'asn_number': '40793',  'browser_major_version': '67',  'browser_name': 'chrome',  \n",
    "         'country_code': 'us',  'dataCenter': '**',  'osFamily': 'Android',  'osMajor': '6',  'popId': '**'\n",
    "    }\n",
    ")"
   ]
  },
  {
   "cell_type": "markdown",
   "id": "0f3dbc3a",
   "metadata": {},
   "source": [
    "Some example inputs to try, while getting started,\n",
    "```json\n",
    "{'asn_number': '40793',  'browser_major_version': '67',  'browser_name': 'chrome',  'country_code': 'us',  'dataCenter': '**',  'osFamily': 'Android',  'osMajor': '6',  'popId': '**'}\n",
    "{'asn_number': '3352',  'browser_major_version': '13',  'browser_name': 'safari',  'country_code': 'es',  'dataCenter': '**',  'osFamily': 'iOS',  'osMajor': '13',  'popId': '**'}\n",
    "{'asn_number': '40793',  'browser_major_version': '67',  'browser_name': 'chrome',  'country_code': 'us',  'dataCenter': '**',  'osFamily': 'Android',  'osMajor': '6',  'popId': '**'}\n",
    "```"
   ]
  },
  {
   "cell_type": "markdown",
   "id": "235bc71a",
   "metadata": {},
   "source": [
    "## Interactive UI"
   ]
  },
  {
   "cell_type": "code",
   "execution_count": 9,
   "id": "a4814428",
   "metadata": {},
   "outputs": [],
   "source": [
    "def design_inline_form_control(label:str, input_type:str=\"text\", default_val=\"\", readonly=False):\n",
    "    input_id = re.sub(r\"\\s+\", \"\", label)\n",
    "    div = html.Div([\n",
    "        html.Div([\n",
    "            html.Label(label, className='col-form-label', htmlFor=input_id)\n",
    "        ], className=\"col-md-3\"),\n",
    "        html.Div([            \n",
    "            dcc.Input(id=input_id, value=default_val, type=input_type, required=True, \n",
    "                      className=\"form-control\", readOnly=readonly)\n",
    "        ], className=\"col-auto\")\n",
    "    ], className=\"row g-3 mb-3 align-items-center\")\n",
    "    return div, input_id"
   ]
  },
  {
   "cell_type": "code",
   "execution_count": 14,
   "id": "89479b7c",
   "metadata": {
    "scrolled": false
   },
   "outputs": [
    {
     "data": {
      "text/html": [
       "\n",
       "        <iframe\n",
       "            width=\"100%\"\n",
       "            height=\"630\"\n",
       "            src=\"http://127.0.0.1:8050/\"\n",
       "            frameborder=\"0\"\n",
       "            allowfullscreen\n",
       "        ></iframe>\n",
       "        "
      ],
      "text/plain": [
       "<IPython.lib.display.IFrame at 0x7fab312ca2b0>"
      ]
     },
     "metadata": {},
     "output_type": "display_data"
    }
   ],
   "source": [
    "app = JupyterDash(__name__, external_stylesheets=[\"https://cdn.jsdelivr.net/npm/bootstrap@5.1.3/dist/css/bootstrap.min.css\"])\n",
    "\n",
    "asn_div, a_id = design_inline_form_control(\"ASN number\", \"number\", 3352)\n",
    "browser_version_div, bv_id = design_inline_form_control(\"Browser major version\", \"number\", 14)\n",
    "browser_name_div, bn_id = design_inline_form_control(\"Browser name\", default_val='safari')\n",
    "country_div, cc_id = design_inline_form_control(\"Country code\", default_val='ca')\n",
    "os_family_div, os_id = design_inline_form_control(\"OS Family\", default_val='iOS')\n",
    "os_major_div, osm_id = design_inline_form_control(\"OS Major version\", \"number\", 14)\n",
    "dc_div, _ = design_inline_form_control(\"Datacenter\", default_val=\"**\", readonly=True)\n",
    "pop_div, _ = design_inline_form_control(\"POP\", default_val=\"**\", readonly=True)\n",
    "        \n",
    "app.layout = html.Div([\n",
    "    html.H1(\"Performance Quality Predictor\", className=\"mb-5\"),\n",
    "    html.P(\"The model is live and ready! Try changing any of the values below and see the prediction at the end.\", className=\"text-muted\"),\n",
    "    html.Div([\n",
    "        asn_div, browser_version_div, browser_name_div, country_div, os_family_div, os_major_div, dc_div, pop_div\n",
    "    ]),\n",
    "    html.P([\n",
    "        \"The model thinks the performance quality for the above request to be, \",\n",
    "        html.Mark(\"Good\", id=\"result_class\"),\n",
    "        \" with \",\n",
    "        html.Mark(\"85%\", id=\"result_prob\"),\n",
    "        \" confidence.\"\n",
    "    ], className=\"lead mt-4\")\n",
    "])\n",
    "\n",
    "@app.callback(\n",
    "    [Output(\"result_class\", 'children'), Output(\"result_prob\", 'children')],\n",
    "    [Input(a_id, \"value\"), Input(bv_id, \"value\"), \n",
    "     Input(bn_id, \"value\"), Input(cc_id, \"value\"), \n",
    "     Input(os_id, \"value\"), Input(osm_id, \"value\")]\n",
    ")\n",
    "def update_figure(asn_number:int, browser_version:int, browser_name:str, country_code:str, os_family:str, os_major:int):\n",
    "    inp = {\n",
    "        'asn_number': f\"{asn_number}\",\n",
    "        'browser_major_version': browser_version,\n",
    "        'browser_name': browser_name,\n",
    "        'country_code': country_code,\n",
    "        'dataCenter': '**',\n",
    "        'osFamily': os_family,\n",
    "        'osMajor': os_major,\n",
    "        'popId': '**'\n",
    "    }\n",
    "    pred = make_prediction(predictor, inp)\n",
    "    good_prob = pred[0]\n",
    "    bad_prob = pred[1] # or 1 - good_prob\n",
    "    if good_prob > bad_prob:\n",
    "        return \"Good\", f\"{good_prob:.2%}\"\n",
    "    else:\n",
    "        return \"Bad\", f\"{bad_prob:.2%}\"\n",
    "\n",
    "# Run app and display result inline in the notebook\n",
    "app.run_server(mode='inline', height=630)\n"
   ]
  },
  {
   "cell_type": "code",
   "execution_count": null,
   "id": "5ffb3bea",
   "metadata": {},
   "outputs": [],
   "source": []
  }
 ],
 "metadata": {
  "kernelspec": {
   "display_name": "Python 3",
   "language": "python",
   "name": "python3"
  },
  "language_info": {
   "codemirror_mode": {
    "name": "ipython",
    "version": 3
   },
   "file_extension": ".py",
   "mimetype": "text/x-python",
   "name": "python",
   "nbconvert_exporter": "python",
   "pygments_lexer": "ipython3",
   "version": "3.6.13"
  },
  "toc": {
   "base_numbering": 1,
   "nav_menu": {},
   "number_sections": false,
   "sideBar": true,
   "skip_h1_title": false,
   "title_cell": "Table of Contents",
   "title_sidebar": "Contents",
   "toc_cell": false,
   "toc_position": {},
   "toc_section_display": true,
   "toc_window_display": true
  },
  "varInspector": {
   "cols": {
    "lenName": 16,
    "lenType": 16,
    "lenVar": 40
   },
   "kernels_config": {
    "python": {
     "delete_cmd_postfix": "",
     "delete_cmd_prefix": "del ",
     "library": "var_list.py",
     "varRefreshCmd": "print(var_dic_list())"
    },
    "r": {
     "delete_cmd_postfix": ") ",
     "delete_cmd_prefix": "rm(",
     "library": "var_list.r",
     "varRefreshCmd": "cat(var_dic_list()) "
    }
   },
   "types_to_exclude": [
    "module",
    "function",
    "builtin_function_or_method",
    "instance",
    "_Feature"
   ],
   "window_display": false
  }
 },
 "nbformat": 4,
 "nbformat_minor": 5
}
